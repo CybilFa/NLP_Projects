{
  "nbformat": 4,
  "nbformat_minor": 0,
  "metadata": {
    "colab": {
      "provenance": []
    },
    "kernelspec": {
      "name": "python3",
      "display_name": "Python 3"
    },
    "language_info": {
      "name": "python"
    }
  },
  "cells": [
    {
      "cell_type": "markdown",
      "source": [
        "Dataset: CoNLL003 (Kaggle)­\n",
        " Identify named entities (like people, locations, and organizations) from article content­\n",
        "\n",
        " Used rule-based and model-based NER approaches­\n",
        "\n",
        " Highlighted and categorized extracted entities in the text\n",
        "\n",
        "Visualize extracted entities with displacy\n",
        "\n",
        "Compare results using two different spaCy models"
      ],
      "metadata": {
        "id": "jaRUVx7i1upO"
      }
    },
    {
      "cell_type": "code",
      "source": [
        "import pandas as pd\n",
        "import numpy as np\n",
        "import matplotlib.pyplot as plt\n",
        "import re\n",
        "from spacy import displacy\n",
        "\n",
        "def load_conll_data(file_path):\n",
        "    sentences = []\n",
        "    current_sentence = []\n",
        "    with open(file_path, \"r\", encoding=\"utf-8\") as f:\n",
        "        for line in f:\n",
        "            line = line.strip()\n",
        "            if not line:\n",
        "                if current_sentence:\n",
        "                    sentences.append(\" \".join(current_sentence))\n",
        "                    current_sentence = []\n",
        "            else:\n",
        "                parts = line.split()\n",
        "                if len(parts) >= 1:\n",
        "                    token = parts[0]\n",
        "                    current_sentence.append(token)\n",
        "        if current_sentence:\n",
        "            sentences.append(\" \".join(current_sentence))\n",
        "    return sentences\n",
        "\n",
        "train_sentences = load_conll_data(\"/content/eng.train\")\n",
        "testa_sentences = load_conll_data(\"/content/eng.testa\")\n",
        "testb_sentences = load_conll_data(\"/content/eng.testb\")\n",
        "\n",
        "print(f\"Loaded {len(train_sentences)} train, {len(testa_sentences)} testa, {len(testb_sentences)}testb sentences.\")\n",
        "\n",
        "\n"
      ],
      "metadata": {
        "colab": {
          "base_uri": "https://localhost:8080/"
        },
        "id": "u01nc72e14k3",
        "outputId": "ce3aa935-ca76-4eb9-daef-88efec8c272a"
      },
      "execution_count": 4,
      "outputs": [
        {
          "output_type": "stream",
          "name": "stdout",
          "text": [
            "Loaded 14987 train, 3466 testa, 3684testb sentences.\n"
          ]
        }
      ]
    },
    {
      "cell_type": "markdown",
      "source": [
        "Rule based NER"
      ],
      "metadata": {
        "id": "AO75dxF45Y6r"
      }
    },
    {
      "cell_type": "code",
      "source": [
        "def rule_based_ner(text):\n",
        "    people = re.findall(r'\\b[A-Z][a-z]+ [A-Z][a-z]+\\b', text)  # e.g. \"John Smith\"\n",
        "    locations = re.findall(r'\\b(?:London|Paris|Berlin|Tokyo|New York)\\b', text)\n",
        "    organizations = re.findall(r'\\b[A-Z]{2,}\\b', text)  # acronyms like \"EU\", \"UN\"\n",
        "    return {\n",
        "        \"PERSON\": list(set(people)),\n",
        "        \"GPE\": list(set(locations)),\n",
        "        \"ORG\": list(set(organizations))\n",
        "    }"
      ],
      "metadata": {
        "id": "KGNkyV355avr"
      },
      "execution_count": 6,
      "outputs": []
    },
    {
      "cell_type": "markdown",
      "source": [
        "Model-based NER"
      ],
      "metadata": {
        "id": "_lOypcni5f1V"
      }
    },
    {
      "cell_type": "code",
      "source": [
        "import spacy\n",
        "print(\"Loading spaCy models...\")\n",
        "nlp_sm = spacy.load(\"en_core_web_sm\")\n",
        "nlp_trf = spacy.load(\"en_core_web_trf\")\n",
        "\n",
        "def extract_entities_spacy(text, nlp_model):\n",
        "    doc = nlp_model(text)\n",
        "    return [(ent.text, ent.label_) for ent in doc.ents]"
      ],
      "metadata": {
        "colab": {
          "base_uri": "https://localhost:8080/"
        },
        "id": "AwtRciFQ5i_Q",
        "outputId": "cf780d06-6d2f-4958-9036-896f894e2fff"
      },
      "execution_count": 8,
      "outputs": [
        {
          "output_type": "stream",
          "name": "stdout",
          "text": [
            "Loading spaCy models...\n"
          ]
        }
      ]
    },
    {
      "cell_type": "markdown",
      "source": [
        "Coparing and visualize"
      ],
      "metadata": {
        "id": "DZ4k2yiQ513y"
      }
    },
    {
      "cell_type": "code",
      "source": [
        "def compare_models(texts):\n",
        "    results = []\n",
        "    for t in texts:\n",
        "        ents_sm = extract_entities_spacy(t, nlp_sm)\n",
        "        ents_trf = extract_entities_spacy(t, nlp_trf)\n",
        "        results.append({\n",
        "            \"text\": t,\n",
        "            \"rule_based\": rule_based_ner(t),\n",
        "            \"sm_count\": len(ents_sm),\n",
        "            \"trf_count\": len(ents_trf),\n",
        "            \"sm_ents\": ents_sm,\n",
        "            \"trf_ents\": ents_trf\n",
        "        })\n",
        "    return pd.DataFrame(results)"
      ],
      "metadata": {
        "id": "pV9GBQV_54rB"
      },
      "execution_count": 9,
      "outputs": []
    },
    {
      "cell_type": "markdown",
      "source": [
        "comparison on sample sentences"
      ],
      "metadata": {
        "id": "CN_-Tud459xf"
      }
    },
    {
      "cell_type": "code",
      "source": [
        "sample_df = compare_models(testb_sentences[:5])\n",
        "print(sample_df)"
      ],
      "metadata": {
        "colab": {
          "base_uri": "https://localhost:8080/"
        },
        "id": "dk8fXXVt6Bc4",
        "outputId": "4abc51f6-4077-4097-9dab-a0ea14aaffed"
      },
      "execution_count": 10,
      "outputs": [
        {
          "output_type": "stream",
          "name": "stdout",
          "text": [
            "                                                text  \\\n",
            "0                                         -DOCSTART-   \n",
            "1  SOCCER - JAPAN GET LUCKY WIN , CHINA IN SURPRI...   \n",
            "2                                        Nadim Ladki   \n",
            "3           AL-AIN , United Arab Emirates 1996-12-06   \n",
            "4  Japan began the defence of their Asian Cup tit...   \n",
            "\n",
            "                                          rule_based  sm_count  trf_count  \\\n",
            "0     {'PERSON': [], 'GPE': [], 'ORG': ['DOCSTART']}         0          0   \n",
            "1  {'PERSON': [], 'GPE': [], 'ORG': ['WIN', 'SURP...         1          2   \n",
            "2  {'PERSON': ['Nadim Ladki'], 'GPE': [], 'ORG': []}         1          1   \n",
            "3  {'PERSON': ['United Arab'], 'GPE': [], 'ORG': ...         3          3   \n",
            "4    {'PERSON': ['Asian Cup'], 'GPE': [], 'ORG': []}         6          6   \n",
            "\n",
            "                                             sm_ents  \\\n",
            "0                                                 []   \n",
            "1                                    [(DEFEAT, ORG)]   \n",
            "2                            [(Nadim Ladki, PERSON)]   \n",
            "3  [(AL-AIN, ORG), (United Arab Emirates, GPE), (...   \n",
            "4  [(Japan, GPE), (Asian Cup, EVENT), (2, CARDINA...   \n",
            "\n",
            "                                            trf_ents  \n",
            "0                                                 []  \n",
            "1                       [(JAPAN, GPE), (CHINA, GPE)]  \n",
            "2                            [(Nadim Ladki, PERSON)]  \n",
            "3  [(AIN, GPE), (United Arab Emirates, GPE), (199...  \n",
            "4  [(Japan, GPE), (Asian Cup, EVENT), (2, CARDINA...  \n"
          ]
        }
      ]
    },
    {
      "cell_type": "markdown",
      "source": [
        "visualize"
      ],
      "metadata": {
        "id": "CD36uA_Y6Hsl"
      }
    },
    {
      "cell_type": "code",
      "source": [
        "from IPython.core.display import HTML, display\n",
        "def read_conll_file(file_path):\n",
        "    sentences = []\n",
        "    sentence = []\n",
        "    with open(file_path, \"r\", encoding=\"utf-8\") as f:\n",
        "        for line in f:\n",
        "            line = line.strip()\n",
        "            if not line or line.startswith(\"-DOCSTART-\"):\n",
        "                if sentence:\n",
        "                    sentences.append(\" \".join(sentence))\n",
        "                    sentence = []\n",
        "                continue\n",
        "            word = line.split()[0]\n",
        "            sentence.append(word)\n",
        "    if sentence:\n",
        "        sentences.append(\" \".join(sentence))\n",
        "    return sentences\n",
        "\n",
        "\n",
        "testb_sentences = read_conll_file(\"/content/eng.testb\")\n",
        "for i, sent in enumerate(testb_sentences[:10], start=1):\n",
        "    print(f\"{i}: {sent}\")\n",
        "\n",
        "html_blocks = []\n",
        "for sent in testb_sentences[:10]:\n",
        "    doc = nlp_trf(sent)\n",
        "    html_blocks.append(displacy.render(doc, style=\"ent\", jupyter = False))\n",
        "\n",
        "display(HTML(\"<br><br>\".join(html_blocks)))\n",
        "\n",
        "#  Display in Colab output\n",
        "# displacy.render(doc_trf, style=\"ent\")\n",
        "\n"
      ],
      "metadata": {
        "colab": {
          "base_uri": "https://localhost:8080/",
          "height": 908
        },
        "id": "RYukbdaI6JY4",
        "outputId": "cc427fe6-e2df-4e00-8983-eb64f6982a5c"
      },
      "execution_count": 15,
      "outputs": [
        {
          "output_type": "stream",
          "name": "stdout",
          "text": [
            "1: SOCCER - JAPAN GET LUCKY WIN , CHINA IN SURPRISE DEFEAT .\n",
            "2: Nadim Ladki\n",
            "3: AL-AIN , United Arab Emirates 1996-12-06\n",
            "4: Japan began the defence of their Asian Cup title with a lucky 2-1 win against Syria in a Group C championship match on Friday .\n",
            "5: But China saw their luck desert them in the second match of the group , crashing to a surprise 2-0 defeat to newcomers Uzbekistan .\n",
            "6: China controlled most of the match and saw several chances missed until the 78th minute when Uzbek striker Igor Shkvyrin took advantage of a misdirected defensive header to lob the ball over the advancing Chinese keeper and into an empty net .\n",
            "7: Oleg Shatskiku made sure of the win in injury time , hitting an unstoppable left foot shot from just outside the area .\n",
            "8: The former Soviet republic was playing in an Asian Cup finals tie for the first time .\n",
            "9: Despite winning the Asian Games title two years ago , Uzbekistan are in the finals as outsiders .\n",
            "10: Two goals from defensive errors in the last six minutes allowed Japan to come from behind and collect all three points from their opening meeting against Syria .\n"
          ]
        },
        {
          "output_type": "display_data",
          "data": {
            "text/plain": [
              "<IPython.core.display.HTML object>"
            ],
            "text/html": [
              "<div class=\"entities\" style=\"line-height: 2.5; direction: ltr\">SOCCER - \n",
              "<mark class=\"entity\" style=\"background: #feca74; padding: 0.45em 0.6em; margin: 0 0.25em; line-height: 1; border-radius: 0.35em;\">\n",
              "    JAPAN\n",
              "    <span style=\"font-size: 0.8em; font-weight: bold; line-height: 1; border-radius: 0.35em; vertical-align: middle; margin-left: 0.5rem\">GPE</span>\n",
              "</mark>\n",
              " GET LUCKY WIN , \n",
              "<mark class=\"entity\" style=\"background: #feca74; padding: 0.45em 0.6em; margin: 0 0.25em; line-height: 1; border-radius: 0.35em;\">\n",
              "    CHINA\n",
              "    <span style=\"font-size: 0.8em; font-weight: bold; line-height: 1; border-radius: 0.35em; vertical-align: middle; margin-left: 0.5rem\">GPE</span>\n",
              "</mark>\n",
              " IN SURPRISE DEFEAT .</div><br><br><div class=\"entities\" style=\"line-height: 2.5; direction: ltr\">\n",
              "<mark class=\"entity\" style=\"background: #aa9cfc; padding: 0.45em 0.6em; margin: 0 0.25em; line-height: 1; border-radius: 0.35em;\">\n",
              "    Nadim Ladki\n",
              "    <span style=\"font-size: 0.8em; font-weight: bold; line-height: 1; border-radius: 0.35em; vertical-align: middle; margin-left: 0.5rem\">PERSON</span>\n",
              "</mark>\n",
              "</div><br><br><div class=\"entities\" style=\"line-height: 2.5; direction: ltr\">AL-\n",
              "<mark class=\"entity\" style=\"background: #feca74; padding: 0.45em 0.6em; margin: 0 0.25em; line-height: 1; border-radius: 0.35em;\">\n",
              "    AIN\n",
              "    <span style=\"font-size: 0.8em; font-weight: bold; line-height: 1; border-radius: 0.35em; vertical-align: middle; margin-left: 0.5rem\">GPE</span>\n",
              "</mark>\n",
              " , \n",
              "<mark class=\"entity\" style=\"background: #feca74; padding: 0.45em 0.6em; margin: 0 0.25em; line-height: 1; border-radius: 0.35em;\">\n",
              "    United Arab Emirates\n",
              "    <span style=\"font-size: 0.8em; font-weight: bold; line-height: 1; border-radius: 0.35em; vertical-align: middle; margin-left: 0.5rem\">GPE</span>\n",
              "</mark>\n",
              " \n",
              "<mark class=\"entity\" style=\"background: #bfe1d9; padding: 0.45em 0.6em; margin: 0 0.25em; line-height: 1; border-radius: 0.35em;\">\n",
              "    1996-12-06\n",
              "    <span style=\"font-size: 0.8em; font-weight: bold; line-height: 1; border-radius: 0.35em; vertical-align: middle; margin-left: 0.5rem\">DATE</span>\n",
              "</mark>\n",
              "</div><br><br><div class=\"entities\" style=\"line-height: 2.5; direction: ltr\">\n",
              "<mark class=\"entity\" style=\"background: #feca74; padding: 0.45em 0.6em; margin: 0 0.25em; line-height: 1; border-radius: 0.35em;\">\n",
              "    Japan\n",
              "    <span style=\"font-size: 0.8em; font-weight: bold; line-height: 1; border-radius: 0.35em; vertical-align: middle; margin-left: 0.5rem\">GPE</span>\n",
              "</mark>\n",
              " began the defence of their \n",
              "<mark class=\"entity\" style=\"background: #ffeb80; padding: 0.45em 0.6em; margin: 0 0.25em; line-height: 1; border-radius: 0.35em;\">\n",
              "    Asian Cup\n",
              "    <span style=\"font-size: 0.8em; font-weight: bold; line-height: 1; border-radius: 0.35em; vertical-align: middle; margin-left: 0.5rem\">EVENT</span>\n",
              "</mark>\n",
              " title with a lucky \n",
              "<mark class=\"entity\" style=\"background: #e4e7d2; padding: 0.45em 0.6em; margin: 0 0.25em; line-height: 1; border-radius: 0.35em;\">\n",
              "    2\n",
              "    <span style=\"font-size: 0.8em; font-weight: bold; line-height: 1; border-radius: 0.35em; vertical-align: middle; margin-left: 0.5rem\">CARDINAL</span>\n",
              "</mark>\n",
              "-1 win against \n",
              "<mark class=\"entity\" style=\"background: #feca74; padding: 0.45em 0.6em; margin: 0 0.25em; line-height: 1; border-radius: 0.35em;\">\n",
              "    Syria\n",
              "    <span style=\"font-size: 0.8em; font-weight: bold; line-height: 1; border-radius: 0.35em; vertical-align: middle; margin-left: 0.5rem\">GPE</span>\n",
              "</mark>\n",
              " in a \n",
              "<mark class=\"entity\" style=\"background: #7aecec; padding: 0.45em 0.6em; margin: 0 0.25em; line-height: 1; border-radius: 0.35em;\">\n",
              "    Group C\n",
              "    <span style=\"font-size: 0.8em; font-weight: bold; line-height: 1; border-radius: 0.35em; vertical-align: middle; margin-left: 0.5rem\">ORG</span>\n",
              "</mark>\n",
              " championship match on \n",
              "<mark class=\"entity\" style=\"background: #bfe1d9; padding: 0.45em 0.6em; margin: 0 0.25em; line-height: 1; border-radius: 0.35em;\">\n",
              "    Friday\n",
              "    <span style=\"font-size: 0.8em; font-weight: bold; line-height: 1; border-radius: 0.35em; vertical-align: middle; margin-left: 0.5rem\">DATE</span>\n",
              "</mark>\n",
              " .</div><br><br><div class=\"entities\" style=\"line-height: 2.5; direction: ltr\">But \n",
              "<mark class=\"entity\" style=\"background: #feca74; padding: 0.45em 0.6em; margin: 0 0.25em; line-height: 1; border-radius: 0.35em;\">\n",
              "    China\n",
              "    <span style=\"font-size: 0.8em; font-weight: bold; line-height: 1; border-radius: 0.35em; vertical-align: middle; margin-left: 0.5rem\">GPE</span>\n",
              "</mark>\n",
              " saw their luck desert them in the \n",
              "<mark class=\"entity\" style=\"background: #e4e7d2; padding: 0.45em 0.6em; margin: 0 0.25em; line-height: 1; border-radius: 0.35em;\">\n",
              "    second\n",
              "    <span style=\"font-size: 0.8em; font-weight: bold; line-height: 1; border-radius: 0.35em; vertical-align: middle; margin-left: 0.5rem\">ORDINAL</span>\n",
              "</mark>\n",
              " match of the group , crashing to a surprise \n",
              "<mark class=\"entity\" style=\"background: #e4e7d2; padding: 0.45em 0.6em; margin: 0 0.25em; line-height: 1; border-radius: 0.35em;\">\n",
              "    2\n",
              "    <span style=\"font-size: 0.8em; font-weight: bold; line-height: 1; border-radius: 0.35em; vertical-align: middle; margin-left: 0.5rem\">CARDINAL</span>\n",
              "</mark>\n",
              "-0 defeat to newcomers \n",
              "<mark class=\"entity\" style=\"background: #feca74; padding: 0.45em 0.6em; margin: 0 0.25em; line-height: 1; border-radius: 0.35em;\">\n",
              "    Uzbekistan\n",
              "    <span style=\"font-size: 0.8em; font-weight: bold; line-height: 1; border-radius: 0.35em; vertical-align: middle; margin-left: 0.5rem\">GPE</span>\n",
              "</mark>\n",
              " .</div><br><br><div class=\"entities\" style=\"line-height: 2.5; direction: ltr\">\n",
              "<mark class=\"entity\" style=\"background: #feca74; padding: 0.45em 0.6em; margin: 0 0.25em; line-height: 1; border-radius: 0.35em;\">\n",
              "    China\n",
              "    <span style=\"font-size: 0.8em; font-weight: bold; line-height: 1; border-radius: 0.35em; vertical-align: middle; margin-left: 0.5rem\">GPE</span>\n",
              "</mark>\n",
              " controlled most of the match and saw several chances missed until \n",
              "<mark class=\"entity\" style=\"background: #bfe1d9; padding: 0.45em 0.6em; margin: 0 0.25em; line-height: 1; border-radius: 0.35em;\">\n",
              "    the 78th minute\n",
              "    <span style=\"font-size: 0.8em; font-weight: bold; line-height: 1; border-radius: 0.35em; vertical-align: middle; margin-left: 0.5rem\">TIME</span>\n",
              "</mark>\n",
              " when \n",
              "<mark class=\"entity\" style=\"background: #c887fb; padding: 0.45em 0.6em; margin: 0 0.25em; line-height: 1; border-radius: 0.35em;\">\n",
              "    Uzbek\n",
              "    <span style=\"font-size: 0.8em; font-weight: bold; line-height: 1; border-radius: 0.35em; vertical-align: middle; margin-left: 0.5rem\">NORP</span>\n",
              "</mark>\n",
              " striker \n",
              "<mark class=\"entity\" style=\"background: #aa9cfc; padding: 0.45em 0.6em; margin: 0 0.25em; line-height: 1; border-radius: 0.35em;\">\n",
              "    Igor Shkvyrin\n",
              "    <span style=\"font-size: 0.8em; font-weight: bold; line-height: 1; border-radius: 0.35em; vertical-align: middle; margin-left: 0.5rem\">PERSON</span>\n",
              "</mark>\n",
              " took advantage of a misdirected defensive header to lob the ball over the advancing \n",
              "<mark class=\"entity\" style=\"background: #c887fb; padding: 0.45em 0.6em; margin: 0 0.25em; line-height: 1; border-radius: 0.35em;\">\n",
              "    Chinese\n",
              "    <span style=\"font-size: 0.8em; font-weight: bold; line-height: 1; border-radius: 0.35em; vertical-align: middle; margin-left: 0.5rem\">NORP</span>\n",
              "</mark>\n",
              " keeper and into an empty net .</div><br><br><div class=\"entities\" style=\"line-height: 2.5; direction: ltr\">\n",
              "<mark class=\"entity\" style=\"background: #aa9cfc; padding: 0.45em 0.6em; margin: 0 0.25em; line-height: 1; border-radius: 0.35em;\">\n",
              "    Oleg Shatskiku\n",
              "    <span style=\"font-size: 0.8em; font-weight: bold; line-height: 1; border-radius: 0.35em; vertical-align: middle; margin-left: 0.5rem\">PERSON</span>\n",
              "</mark>\n",
              " made sure of the win in injury time , hitting an unstoppable left foot shot from just outside the area .</div><br><br><div class=\"entities\" style=\"line-height: 2.5; direction: ltr\">The former \n",
              "<mark class=\"entity\" style=\"background: #c887fb; padding: 0.45em 0.6em; margin: 0 0.25em; line-height: 1; border-radius: 0.35em;\">\n",
              "    Soviet\n",
              "    <span style=\"font-size: 0.8em; font-weight: bold; line-height: 1; border-radius: 0.35em; vertical-align: middle; margin-left: 0.5rem\">NORP</span>\n",
              "</mark>\n",
              " republic was playing in an \n",
              "<mark class=\"entity\" style=\"background: #ffeb80; padding: 0.45em 0.6em; margin: 0 0.25em; line-height: 1; border-radius: 0.35em;\">\n",
              "    Asian Cup\n",
              "    <span style=\"font-size: 0.8em; font-weight: bold; line-height: 1; border-radius: 0.35em; vertical-align: middle; margin-left: 0.5rem\">EVENT</span>\n",
              "</mark>\n",
              " finals tie for the \n",
              "<mark class=\"entity\" style=\"background: #e4e7d2; padding: 0.45em 0.6em; margin: 0 0.25em; line-height: 1; border-radius: 0.35em;\">\n",
              "    first\n",
              "    <span style=\"font-size: 0.8em; font-weight: bold; line-height: 1; border-radius: 0.35em; vertical-align: middle; margin-left: 0.5rem\">ORDINAL</span>\n",
              "</mark>\n",
              " time .</div><br><br><div class=\"entities\" style=\"line-height: 2.5; direction: ltr\">Despite winning the \n",
              "<mark class=\"entity\" style=\"background: #ffeb80; padding: 0.45em 0.6em; margin: 0 0.25em; line-height: 1; border-radius: 0.35em;\">\n",
              "    Asian Games\n",
              "    <span style=\"font-size: 0.8em; font-weight: bold; line-height: 1; border-radius: 0.35em; vertical-align: middle; margin-left: 0.5rem\">EVENT</span>\n",
              "</mark>\n",
              " title \n",
              "<mark class=\"entity\" style=\"background: #bfe1d9; padding: 0.45em 0.6em; margin: 0 0.25em; line-height: 1; border-radius: 0.35em;\">\n",
              "    two years ago\n",
              "    <span style=\"font-size: 0.8em; font-weight: bold; line-height: 1; border-radius: 0.35em; vertical-align: middle; margin-left: 0.5rem\">DATE</span>\n",
              "</mark>\n",
              " , \n",
              "<mark class=\"entity\" style=\"background: #feca74; padding: 0.45em 0.6em; margin: 0 0.25em; line-height: 1; border-radius: 0.35em;\">\n",
              "    Uzbekistan\n",
              "    <span style=\"font-size: 0.8em; font-weight: bold; line-height: 1; border-radius: 0.35em; vertical-align: middle; margin-left: 0.5rem\">GPE</span>\n",
              "</mark>\n",
              " are in the finals as outsiders .</div><br><br><div class=\"entities\" style=\"line-height: 2.5; direction: ltr\">\n",
              "<mark class=\"entity\" style=\"background: #e4e7d2; padding: 0.45em 0.6em; margin: 0 0.25em; line-height: 1; border-radius: 0.35em;\">\n",
              "    Two\n",
              "    <span style=\"font-size: 0.8em; font-weight: bold; line-height: 1; border-radius: 0.35em; vertical-align: middle; margin-left: 0.5rem\">CARDINAL</span>\n",
              "</mark>\n",
              " goals from defensive errors in the last six minutes allowed \n",
              "<mark class=\"entity\" style=\"background: #feca74; padding: 0.45em 0.6em; margin: 0 0.25em; line-height: 1; border-radius: 0.35em;\">\n",
              "    Japan\n",
              "    <span style=\"font-size: 0.8em; font-weight: bold; line-height: 1; border-radius: 0.35em; vertical-align: middle; margin-left: 0.5rem\">GPE</span>\n",
              "</mark>\n",
              " to come from behind and collect all \n",
              "<mark class=\"entity\" style=\"background: #e4e7d2; padding: 0.45em 0.6em; margin: 0 0.25em; line-height: 1; border-radius: 0.35em;\">\n",
              "    three\n",
              "    <span style=\"font-size: 0.8em; font-weight: bold; line-height: 1; border-radius: 0.35em; vertical-align: middle; margin-left: 0.5rem\">CARDINAL</span>\n",
              "</mark>\n",
              " points from their opening meeting against \n",
              "<mark class=\"entity\" style=\"background: #feca74; padding: 0.45em 0.6em; margin: 0 0.25em; line-height: 1; border-radius: 0.35em;\">\n",
              "    Syria\n",
              "    <span style=\"font-size: 0.8em; font-weight: bold; line-height: 1; border-radius: 0.35em; vertical-align: middle; margin-left: 0.5rem\">GPE</span>\n",
              "</mark>\n",
              " .</div>"
            ]
          },
          "metadata": {}
        }
      ]
    }
  ]
}